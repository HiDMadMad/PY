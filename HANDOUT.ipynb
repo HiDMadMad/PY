{
 "cells": [
  {
   "cell_type": "markdown",
   "id": "933538d2",
   "metadata": {},
   "source": [
    "##### in command-line -->\n",
    "'tree' command in terminal shows the structure of folders<br><br>\n",
    "'tree /f'<br>\n",
    "displays the directory structure along with all files in each folder<br><br>\n",
    "'tree /a'<br>\n",
    "displays the directory structure using ASCII characters instead of graphics<br><br>\n",
    "'tree /f /a > tree.txt<br>\n",
    "displays the directory structure with files in ASCII format and saves the output to a file named tree.txt"
   ]
  },
  {
   "cell_type": "markdown",
   "id": "3d92b30f",
   "metadata": {},
   "source": [
    "#### in browser --> \n",
    "define : anything"
   ]
  },
  {
   "cell_type": "markdown",
   "id": "098504e1",
   "metadata": {},
   "source": [
    "# venv (virtual environment) :"
   ]
  },
  {
   "cell_type": "code",
   "execution_count": null,
   "id": "23eac522",
   "metadata": {},
   "outputs": [],
   "source": [
    "# in windows :\n",
    "\n",
    "\n",
    "## to create :\n",
    "### python -m venv path\\\\...\\\\EnvironmentName\n",
    "#### name is betters to be 'venv'\n",
    "### pip install -r requirements.txt\n",
    "\n",
    "## to use :\n",
    "### \\\\path\\\\EnviromentName\\\\Scripts\\\\activate\n",
    "#### do works...\n",
    "#### pip install ...\n",
    "#### pip list\n",
    "#### pip freeze\n",
    "#### pip freeze > requirements.txt   -->   for this : pip install -r requirements.txt\n",
    "#### python app.py\n",
    "#### and any works..\n",
    "### \\\\path\\\\EnvironmentName\\\\Scripts\\\\deactivate"
   ]
  },
  {
   "cell_type": "markdown",
   "id": "0d65f22d-e943-4c0a-82b4-209fe5a14836",
   "metadata": {},
   "source": [
    "# library imports :"
   ]
  },
  {
   "cell_type": "markdown",
   "id": "7b76cffe",
   "metadata": {},
   "source": [
    "## how to install :"
   ]
  },
  {
   "cell_type": "markdown",
   "id": "b341c3ab",
   "metadata": {},
   "source": [
    "### 1.from pypi.org (official website)"
   ]
  },
  {
   "cell_type": "markdown",
   "id": "939fde13",
   "metadata": {},
   "source": [
    "### 2.in terminal :"
   ]
  },
  {
   "cell_type": "code",
   "execution_count": null,
   "id": "93014310",
   "metadata": {},
   "outputs": [],
   "source": [
    "# pip install PackageName\n",
    "\n",
    "# pip-.-- install PackageName\n",
    "# pip3.12 install PackageName"
   ]
  },
  {
   "cell_type": "markdown",
   "id": "8aa6b855",
   "metadata": {},
   "source": [
    "## how to use :"
   ]
  },
  {
   "cell_type": "code",
   "execution_count": null,
   "id": "de24a33d-4b68-40d7-aa43-b47d5be482da",
   "metadata": {},
   "outputs": [],
   "source": [
    "import tqdm                                         # 1\n",
    "import pandas as pd                                 # 2\n",
    "from pandas.plotting import scatter_matrix          # 3\n",
    "# 'from' use for packages (usually)\n",
    "from pandas.plotting import scatter_matrix as s_m   # 4 \n",
    "from emoji import emojize, emoji_list               # 5"
   ]
  },
  {
   "cell_type": "code",
   "execution_count": null,
   "id": "3b6ae48e",
   "metadata": {},
   "outputs": [],
   "source": [
    "import emoji\n",
    "print(emoji.emojize('bilakh means :thumbs_up:'))"
   ]
  },
  {
   "cell_type": "code",
   "execution_count": null,
   "id": "89a73281",
   "metadata": {},
   "outputs": [],
   "source": [
    "from emoji import *\n",
    "print(emojize('bilakh means :thumbs_up:'))"
   ]
  },
  {
   "cell_type": "code",
   "execution_count": null,
   "id": "7be9b90b",
   "metadata": {},
   "outputs": [],
   "source": [
    "from emoji import emojize\n",
    "print(emojize('bilakh means :thumbs_up:'))"
   ]
  },
  {
   "cell_type": "code",
   "execution_count": null,
   "id": "2a18e9da",
   "metadata": {},
   "outputs": [],
   "source": [
    "from emoji import emojize as em\n",
    "print(em('bilakh means :thumbs_up:'))"
   ]
  },
  {
   "cell_type": "markdown",
   "id": "4fe81479",
   "metadata": {},
   "source": [
    "## modular programming :"
   ]
  },
  {
   "cell_type": "code",
   "execution_count": null,
   "id": "1daab6db",
   "metadata": {},
   "outputs": [],
   "source": [
    "import modules.for_handout_module as fm\n",
    "'''\n",
    "or can create module in the same folder with main code and\n",
    " write \"import for_handout_module as fm\" syntax '''\n",
    "fm.imported()"
   ]
  },
  {
   "cell_type": "code",
   "execution_count": null,
   "id": "263b395b",
   "metadata": {},
   "outputs": [],
   "source": [
    "from modules.for_handout_module import imported_with_from, PiNumber\n",
    "imported_with_from()\n",
    "print(f\"PiNumber is {PiNumber} because i imported this from my module\")"
   ]
  },
  {
   "cell_type": "markdown",
   "id": "ffeffd41",
   "metadata": {},
   "source": [
    "## modules as a package :"
   ]
  },
  {
   "cell_type": "code",
   "execution_count": null,
   "id": "dad6ac69",
   "metadata": {},
   "outputs": [],
   "source": [
    "import packages  \n",
    "# import all modules from the 'packages' folder\n",
    "\n",
    "from packages import ForHandOutModuleFromPackage\n",
    "# import 'ForHandOutModuleFromPackage' module from the 'packages' folder\n",
    "\n",
    "from packages.for_handout_module_from_package import gravity\n",
    "''' \n",
    "import 'gravity' from the 'for_handout_module_from_package' module\n",
    " in the 'packages' folder '''"
   ]
  },
  {
   "cell_type": "markdown",
   "id": "a2fa5851",
   "metadata": {},
   "source": [
    "### main dunder (--name--) :"
   ]
  },
  {
   "cell_type": "code",
   "execution_count": null,
   "id": "0fc1d567",
   "metadata": {},
   "outputs": [],
   "source": [
    "# if __name__ is run from self file, it returns '__main__'\n",
    "# if __name__ is run from any other file, it returns the module's or package's name\n",
    "# it(__name__) checks whether the script is being run independently or imported\n",
    "\n",
    "import packages.for_handout_module_from_package as pk\n",
    "import modules.for_handout_module as mo\n",
    "\n",
    "pk.whats_my_name_from_pk()\n",
    "print()\n",
    "mo.whats_my_name_from_mo()\n",
    "print()\n",
    "print(__name__,'\\n')\n",
    "\n",
    "# this code can be used in modules to return a warning :\n",
    "if (__name__ == \"__main__\"):\n",
    "    print(\"\\nyou should use this file as a module\")\n",
    "\n",
    "# or if it runs as an independent program, it will perform a different action\n",
    "if (__name__ == \"__main__\"):\n",
    "    # do something\n",
    "    pass\n",
    "\n",
    "# so with this syntax, your module can be executed as a command-line program too or used just as a module."
   ]
  },
  {
   "cell_type": "markdown",
   "id": "ad28abcc",
   "metadata": {},
   "source": [
    "## python standard libraries :"
   ]
  },
  {
   "cell_type": "markdown",
   "id": "b87780b6",
   "metadata": {},
   "source": [
    "python is battery included language :)"
   ]
  },
  {
   "cell_type": "markdown",
   "id": "94d85470",
   "metadata": {},
   "source": [
    "in command-line --> help(library_name)"
   ]
  },
  {
   "cell_type": "markdown",
   "id": "796567de",
   "metadata": {},
   "source": [
    "### itertools :"
   ]
  },
  {
   "cell_type": "code",
   "execution_count": null,
   "id": "aca24cb8",
   "metadata": {},
   "outputs": [],
   "source": [
    "import itertools as it\n",
    "\n",
    "an_iterator = it.cycle([1, 2, 3])\n",
    "next(an_iterator)  # each time you receive: 1, 2, 3, 1, 2, 3, 1, 2, ..."
   ]
  },
  {
   "cell_type": "code",
   "execution_count": null,
   "id": "d7852ee9",
   "metadata": {},
   "outputs": [],
   "source": [
    "import itertools as it\n",
    "\n",
    "list(it.combinations([1,2,3,4], 2))  # available couple combinations\n",
    "list(it.combinations_with_replacement([1,2,3,4], 2))  # available couple combinations + duplicates"
   ]
  },
  {
   "cell_type": "code",
   "execution_count": null,
   "id": "6b45b168",
   "metadata": {},
   "outputs": [],
   "source": [
    "import itertools as it\n",
    "\n",
    "list(it.accumulate([1,  2, 3, 4]))  # 0+1=1, 1+2=3 , 3+3=6, 6+4=10  --> 1, 3, 6, 10"
   ]
  },
  {
   "cell_type": "code",
   "execution_count": null,
   "id": "e0ddc7a9",
   "metadata": {},
   "outputs": [],
   "source": [
    "import itertools as it\n",
    "\n",
    "court_piece = list(it.product(['heart', 'diamond', 'club', 'spade'], ['ace',2,3,4,5,6,7,8,9,'jack','queen','king']))\n",
    "court_piece"
   ]
  },
  {
   "cell_type": "markdown",
   "id": "f8d8e9be",
   "metadata": {},
   "source": [
    "### collections :"
   ]
  },
  {
   "cell_type": "code",
   "execution_count": null,
   "id": "fddd61d0",
   "metadata": {},
   "outputs": [],
   "source": [
    "from collections import Counter\n",
    "# now we have new data types\n",
    "\n",
    "a_list = [1,3,2,4,2,3,1,2,4,2,3,1,2,1]\n",
    "print(Counter(a_list))\n",
    "counted = Counter(a_list)\n",
    "print(counted.get(2))  # number of twos\n",
    "counted.most_common()  # number of all, sorted by highest count\n",
    "counted.most_common(2)  # two of them with the highest count"
   ]
  },
  {
   "cell_type": "code",
   "execution_count": null,
   "id": "595b193d",
   "metadata": {},
   "outputs": [],
   "source": [
    "from collections import namedtuple\n",
    "\n",
    "fast_created_class = namedtuple(\"fast_created_class\", [\"name\", \"teacher_name\", \"number_of_stu\", \"avg_of_score\"])\n",
    "\n",
    "chemistry = fast_created_class(name=\"chemistry\", teacher_name=\"anyone\", number_of_stu=27, avg_of_score=11.25)\n",
    "\n",
    "print(chemistry)\n",
    "chemistry.avg_of_score  # same as 'chemistry[3]'\n",
    "chemistry.teacher_name"
   ]
  },
  {
   "cell_type": "code",
   "execution_count": null,
   "id": "2cf2e6df",
   "metadata": {},
   "outputs": [],
   "source": [
    "from collections import defaultdict\n",
    "\n",
    "# weak way :\n",
    "weak_dict = dict()\n",
    "weak_dict['name'] = 'popet in wea'\n",
    "print(weak_dict)\n",
    "print(weak_dict['name'])\n",
    "#weak_dict['family_name']  # got KeyError in here\n",
    "\n",
    "# better way :\n",
    "better_dict = defaultdict(lambda:\"doesn't exist\")  # defaultdict(any_function) OR defaultdict(list) OR defaultdict(lambda:-1)  # can be any function \n",
    "better_dict['name'] = 'popet in def'\n",
    "print(better_dict)\n",
    "print(better_dict['name'])\n",
    "print(better_dict['family_name'])"
   ]
  },
  {
   "cell_type": "markdown",
   "id": "772921fd",
   "metadata": {},
   "source": [
    "### datetime :"
   ]
  },
  {
   "cell_type": "code",
   "execution_count": null,
   "id": "f03361ed",
   "metadata": {},
   "outputs": [],
   "source": [
    "import datetime\n",
    "\n",
    "# Specific date: December 29, 2025\n",
    "date = datetime.date(2025, 12, 29)  # 2006 09 03\n",
    "date.ctime()  # 'Mon Dec 29 00:00:00 2025'\n",
    "date.weekday()  # # Monday = 0, Sunday = 6\n",
    "\n",
    "# Current live date (today's date)\n",
    "live_date = datetime.date.today()  # full date of today\n",
    "live_date.day\n",
    "live_date.month\n",
    "live_date.year\n",
    "\n",
    "# Specific time: 23:59:59\n",
    "time = datetime.time(23, 59, 59)  # 10:42:31:26...\n",
    "time.hour\n",
    "time.second\n",
    "time.microsecond\n",
    "\n",
    "# Specific datetime: Dec 29, 2025 at 23:59:59\n",
    "date_time = datetime.datetime(2025, 12, 29, 23, 59, 59)\n",
    "\n",
    "# Current live datetime\n",
    "live_date_time = datetime.datetime.now()"
   ]
  },
  {
   "cell_type": "markdown",
   "id": "e3c3f471",
   "metadata": {},
   "source": [
    "### math :"
   ]
  },
  {
   "cell_type": "code",
   "execution_count": null,
   "id": "da903651",
   "metadata": {},
   "outputs": [],
   "source": [
    "import math\n",
    "\n",
    "math.pi  # shows the P number\n",
    "math.e  # shows the e number\n",
    "math.inf  # shows infinity (the biggest number can be compared)\n",
    "math.nan  # not a number\n",
    "\n",
    "math.degrees(3.14/2)\n",
    "math.degrees(math.pi/2)\n",
    "math.radians(90)\n",
    "\n",
    "math.pow(2, 3)  # power (returns float)\n",
    "math.log(10)  # logarithm\n",
    "math.log(100, 10)  # logarithm with base\n",
    "\n",
    "round(4.5)  # round to 4  |--> based on even and odd bits  --> odds round to up and evens round to down  --> because of mean balance\n",
    "round(5.5)  # round to 6  |\n",
    "            #           --+\n",
    "round(4.3)  # round to 4\n",
    "round(4.6)  # round to 5\n",
    "math.floor(4.9)  # round to 4 (round to down)\n",
    "math.ceil(4.1)  # round to 5 (round to up)"
   ]
  },
  {
   "cell_type": "markdown",
   "id": "d842f9ed",
   "metadata": {},
   "source": [
    "### random :"
   ]
  },
  {
   "cell_type": "code",
   "execution_count": null,
   "id": "da791d3c",
   "metadata": {},
   "outputs": [],
   "source": [
    "import random\n",
    "\n",
    "random.randint(1, 6)  # random number between 1 to 6\n",
    "random.random()  # random number between 0 - 1\n",
    "\n",
    "random.seed()  # random returns a number based on it's own seed, which can changed\n",
    "\n",
    "random_numbers = range(10)\n",
    "random_numbers = list(random_numbers)\n",
    "random.choices(random_numbers, k=2)  # returns two random numbers\n",
    "random.sample(random_numbers, k=2)  # returns two random and non-repetitive numbers\n",
    "\n",
    "random.choice([\"rock\", \"paper\", \"scissor\"])\n",
    "\n",
    "random.shuffle(random_numbers)"
   ]
  },
  {
   "cell_type": "markdown",
   "id": "c427e889",
   "metadata": {},
   "source": [
    "### regEx(regular expression operations) :"
   ]
  },
  {
   "cell_type": "code",
   "execution_count": null,
   "id": "78ae976c",
   "metadata": {},
   "outputs": [],
   "source": [
    "a_str = \"popet has a phone. popet number is +987654321\"\n",
    "\n",
    "# old way :\n",
    "'phone' in a_str\n",
    "'+9892111' in a_str"
   ]
  },
  {
   "cell_type": "markdown",
   "id": "95fdd3c7",
   "metadata": {},
   "source": [
    "but what if we have just a pattern?"
   ]
  },
  {
   "cell_type": "code",
   "execution_count": null,
   "id": "f272be32",
   "metadata": {},
   "outputs": [],
   "source": [
    "import re\n",
    "\n",
    "non_repetitive_founded = re.search('popet', a_str)  # just returns the first one (if doesn't found returns None)\n",
    "print(non_repetitive_founded)\n",
    "non_repetitive_founded.start()\n",
    "non_repetitive_founded.end()\n",
    "non_repetitive_founded.span()\n",
    "non_repetitive_founded.group()"
   ]
  },
  {
   "cell_type": "code",
   "execution_count": null,
   "id": "40ae6d3f",
   "metadata": {},
   "outputs": [],
   "source": [
    "repetitive_founded_list = re.findall('popet', a_str)  # returns all as a list\n",
    "print(repetitive_founded_list)"
   ]
  },
  {
   "cell_type": "code",
   "execution_count": null,
   "id": "b9afeb83",
   "metadata": {},
   "outputs": [],
   "source": [
    "repetitive_founded_iterator = re.finditer('popet', a_str)  # returns all as an iterator\n",
    "print(repetitive_founded_iterator)\n",
    "for match in repetitive_founded_iterator:\n",
    "    print(match)  # now each is like .search"
   ]
  },
  {
   "cell_type": "code",
   "execution_count": null,
   "id": "5413886c",
   "metadata": {},
   "outputs": [],
   "source": [
    "  # \\d is for digits\n",
    "  # \\D is anything except digits\n",
    "  # \\w is for words (alpha numerical)\n",
    "  # \\W is anything except words (alpha numerical)\n",
    "  # \\s is for spaces & tabs & ...\n",
    "  # \\S is anything except spaces & tabs & ...\n",
    "  # .  is anything\n",
    "    # + is one or more than one\n",
    "    # * is zero or more than zero\n",
    "    # ? is nothing or one\n",
    "    # {3} is three after 'anything'\n",
    "    # {2, 4} is two or three or four after 'anything'\n",
    "    # {4, } is four or more\n",
    "    # a|b is a or b\n",
    "# ^ is from start of string\n",
    "# $ is from end of string"
   ]
  },
  {
   "cell_type": "code",
   "execution_count": null,
   "id": "ee5ea64a",
   "metadata": {},
   "outputs": [],
   "source": [
    "re.findall(r\"\\d\", a_str)  # returns a list of numbers that were found"
   ]
  },
  {
   "cell_type": "code",
   "execution_count": null,
   "id": "64bc40e1",
   "metadata": {},
   "outputs": [],
   "source": [
    "re.findall(r\"\\+\\d\", a_str)  # things are '+' + 'a_number'"
   ]
  },
  {
   "cell_type": "code",
   "execution_count": null,
   "id": "8fa21971",
   "metadata": {},
   "outputs": [],
   "source": [
    "re.findall(r\"\\+\\d+\", a_str)  # things are '+' + 'some_numbers' (phone number)"
   ]
  },
  {
   "cell_type": "code",
   "execution_count": null,
   "metadata": {},
   "outputs": [],
   "source": [
    "re.findall(r\"\\+\\d{2}\", a_str)  # things are '+' + 'two_numbers'"
   ]
  },
  {
   "cell_type": "code",
   "execution_count": null,
   "id": "4a726243",
   "metadata": {},
   "outputs": [],
   "source": [
    "re.findall(r\"\\+\\d{2,4}\", a_str)  # things are '+' + 'two_numbers to four_numbers at least'"
   ]
  },
  {
   "cell_type": "code",
   "execution_count": null,
   "id": "06901ad3",
   "metadata": {},
   "outputs": [],
   "source": [
    "re.findall(r\"\\@\\w+\", a_str)  # IDs\n",
    "\n",
    "find_ID_pattern = re.compile(r\"\\@(\\w+)\")\n",
    "re.findall(find_ID_pattern, a_str)"
   ]
  },
  {
   "cell_type": "code",
   "execution_count": null,
   "id": "97a6d7d8",
   "metadata": {},
   "outputs": [],
   "source": [
    "re.findall(r\"^(\\w{4})\\s\", a_str)  # every 4_character_names and it returns only the names"
   ]
  },
  {
   "cell_type": "code",
   "execution_count": null,
   "id": "c07be442",
   "metadata": {},
   "outputs": [],
   "source": [
    "card_nums = re.finditer(r\"(\\d{4})-\\d{4}-\\d{4}-\\d{4}\", a_str)\n",
    "for card in card_nums:\n",
    "    print(card.group(1))  # it returns the first four digits to identify the bank name"
   ]
  },
  {
   "cell_type": "code",
   "execution_count": null,
   "id": "1df2f08a",
   "metadata": {},
   "outputs": [],
   "source": [
    "re.sub(r\"r\", \"k\", a_str)  # replace 'r's with'k's in a_str"
   ]
  },
  {
   "cell_type": "markdown",
   "id": "c7701668",
   "metadata": {},
   "source": [
    "it have very big space<br>\n",
    "can learn and exercise on 'regex101.com'<br>\n",
    "can find any pattern in browser"
   ]
  },
  {
   "cell_type": "markdown",
   "id": "f545df25",
   "metadata": {},
   "source": [
    "### decimal :"
   ]
  },
  {
   "cell_type": "code",
   "execution_count": null,
   "id": "43196646",
   "metadata": {},
   "outputs": [],
   "source": [
    "0.1 == 0.1  # true\n",
    "0.2 == 0.2  # true\n",
    "0.3 == 0.3  # true\n",
    "0.1+0.2==0.3  # false\n",
    "\n",
    "from decimal import *\n",
    "\n",
    "getcontext()\n",
    "#getcontext().prec = 3  # it now has 3 decimal places\n",
    "Decimal('0.1') + Decimal('0.2') == Decimal('0.3')  # now it's true\n",
    "Decimal(3.14) != Decimal('3.14')\n",
    "\"1.2 2.3 3.4 4.5\".split(sep=' ')  # returns a splitted list of numbers (default separator is space)\n",
    "dec_nums = list(map(Decimal, \"1.2 2.3 3.4 4.5\".split()))  # can work with this like a numerical list1"
   ]
  },
  {
   "cell_type": "markdown",
   "id": "60ac5e50-3176-467d-ab9a-02545e9cb793",
   "metadata": {},
   "source": [
    "# comenting :"
   ]
  },
  {
   "cell_type": "code",
   "execution_count": null,
   "id": "374dec15-5625-4493-a330-ea2e989da5ac",
   "metadata": {},
   "outputs": [],
   "source": [
    "# one line comment\n",
    "\n",
    "'''\n",
    "multi \n",
    "line \n",
    "comment\n",
    "'''"
   ]
  },
  {
   "cell_type": "markdown",
   "id": "f0e572fa",
   "metadata": {},
   "source": [
    "# ascii :"
   ]
  },
  {
   "cell_type": "code",
   "execution_count": null,
   "id": "7277ef5b",
   "metadata": {},
   "outputs": [],
   "source": [
    "ord('j')  # returns 'j's ascii code\n",
    "chr(106)  # returns the character for the 106 decimal code"
   ]
  },
  {
   "cell_type": "markdown",
   "id": "27b46325-1eaa-4707-91e3-7e1b754c903f",
   "metadata": {},
   "source": [
    "# data types :"
   ]
  },
  {
   "cell_type": "code",
   "execution_count": null,
   "id": "ce61a05b-a3ee-4b22-afe8-ef3d9b84a682",
   "metadata": {},
   "outputs": [],
   "source": [
    "age = 16  # integer(int)\n",
    "p_num = 3.14  # float|double\n",
    "flag = True  # (1)  or  False(0)  or  None(nothing)"
   ]
  },
  {
   "cell_type": "markdown",
   "id": "2735e732",
   "metadata": {},
   "source": [
    "#### Advanced in numbers :"
   ]
  },
  {
   "cell_type": "code",
   "execution_count": null,
   "id": "fa12f0c4",
   "metadata": {},
   "outputs": [],
   "source": [
    "hex(11)  # returns a string of the hexadecimal representation (0x---)\n",
    "oct(11)  # returns a string of the octal representation (0c---)\n",
    "bin(11)  # returns a string of the binary representation (0b---)\n",
    "\n",
    "# can use directly :\n",
    "for i in range(0x10):\n",
    "    print(i)\n",
    "\n",
    "int('11', 16)  # returns 11(integer) based on hexadecimal(16)\n",
    "\n",
    "pow(2, 8, 100)  # (2^8)%100  ||  2 power of 8 in the range 0 to 100"
   ]
  },
  {
   "cell_type": "markdown",
   "id": "2d94d0b3-ff1b-46fd-a1a0-e81d3a94425b",
   "metadata": {},
   "source": [
    "## string :"
   ]
  },
  {
   "cell_type": "code",
   "execution_count": null,
   "id": "a72f7336-4a4d-4eea-bd45-6602a273fb38",
   "metadata": {},
   "outputs": [],
   "source": [
    "name = \"madmad\"  # OR 'madmad'  string(str)\n",
    "a_string = \"popet is ahmagh's dog, he is ahmagh too\"\n",
    "#index: 012345\n",
    "\n",
    "# in reality, a string is a list of characters\n",
    "# strings are mutable\n",
    "\n",
    "name[1]  # returns 'a'\n",
    "name[-1]  # returns 'd'  # from the end\n",
    "name[-2]  # returns 'a'"
   ]
  },
  {
   "cell_type": "markdown",
   "id": "b81015b7-bd87-4412-9dc4-5d20c09039da",
   "metadata": {},
   "source": [
    "#### slicing :"
   ]
  },
  {
   "cell_type": "code",
   "execution_count": null,
   "id": "448af179-b990-453f-858c-194c408f856d",
   "metadata": {
    "scrolled": true
   },
   "outputs": [],
   "source": [
    "# name[start:end:step]  --> from start to end-1 by step\n",
    "name[0:3]  # returns 'mad'\n",
    "name[2:]  # returns 'dmad'\n",
    "name[:4]  # returns 'madm'\n",
    "name[0::2]  # returns 'mda'"
   ]
  },
  {
   "cell_type": "markdown",
   "id": "c819f228-8f1d-472c-8512-74ea376f9dad",
   "metadata": {},
   "source": [
    "#### tips :"
   ]
  },
  {
   "cell_type": "code",
   "execution_count": null,
   "id": "b84b3d2e-8c99-41be-9979-9be164d2ede9",
   "metadata": {
    "scrolled": true
   },
   "outputs": [],
   "source": [
    "# to change the first character in a string, you can do :\n",
    "name = \"M\" + name[1:]\n",
    "\n",
    "# to reverse the string, you can do :\n",
    "name[::-1]"
   ]
  },
  {
   "cell_type": "markdown",
   "id": "64502494",
   "metadata": {},
   "source": [
    "#### built-in functions :"
   ]
  },
  {
   "cell_type": "code",
   "execution_count": null,
   "id": "d1cadb01",
   "metadata": {},
   "outputs": [],
   "source": [
    "# doesn't change the original string \n",
    "\n",
    "name.upper()  # converts name characters to uppercase letters\n",
    "name.lower()  # converts name characters to lowercase letters\n",
    "name.title()  # converts first character of each word to uppercase\n",
    "name.rstrip()  # deletes the last space in the string(if it exist)\n",
    "name.lstrip()  # deletes the first space in the string(if it exist)\n",
    "name.find(\"anything\")  # returns the first index of \"anything\" found in the name(if not found return -1)\n",
    "name.replace(\"ad\", \"da\")  # replace all \"ad\"s in the string with \"da\"\n",
    "name.index('m')  # returns the first index of the character(from 1 not 0)\n",
    "name.count('c')  # returns the number of value\n",
    "name.strip()  # deletes the first and last space in the string(if exist)\n",
    "# .split()  OR  .split(',')  # default separator is ' ' but it's changeable\n",
    "a_string.partition(',')  # split into 3 parts with the first ','\n",
    "name.capitalize()  # makes the first character uppercase\n",
    "a_string.title()  # makes the first character of each word uppercase\n",
    "name.center(10)  # creates a string with 10 characters, placing the 'name' in the middle '  madmad  '\n",
    "name.center(10, '-')  # '--madmad--'\n",
    "# name.is---\n",
    "a_string.startswith('anything')  # if starts with 'anything' returns true\n",
    "a_string.endswith('anything')  # if ends with 'anything' returns true\n",
    "len(name)\n",
    "type(name)"
   ]
  },
  {
   "cell_type": "markdown",
   "id": "73233b3a-21d1-4daf-8874-31e50f2b90c1",
   "metadata": {},
   "source": [
    "## Arrays :"
   ]
  },
  {
   "cell_type": "markdown",
   "id": "c71e15a9-0184-416b-98b5-5234a31d2e23",
   "metadata": {},
   "source": [
    "### list :"
   ]
  },
  {
   "cell_type": "code",
   "execution_count": null,
   "id": "71ad31e0-00fc-4701-ac1d-a6da433ad2b6",
   "metadata": {},
   "outputs": [],
   "source": [
    " \n",
    "ListName = [11, 3.14, 'A', \"da?\", False, [1,2.0,\"par\"]]\n",
    "#   index : 0    1     2     3      4          5\n",
    "\n",
    "NumList = [3, 9, 2, 5, 1, 4]\n",
    "WordsList = [\"cat\", \"madmad\", \"TraeYoung\"]\n",
    "animal, a_name, a_player = WordsList\n",
    "\n",
    "# can do slicing in lists\n",
    "# can '+' or '*Number' two or more lists\n",
    "# lists are ordered"
   ]
  },
  {
   "cell_type": "markdown",
   "id": "d924c67d-c28f-49df-8ed1-b6162307f28e",
   "metadata": {},
   "source": [
    "#### list comprehension :"
   ]
  },
  {
   "cell_type": "code",
   "execution_count": null,
   "id": "9af29c17-0be4-4c25-b1a9-cbf279733c8a",
   "metadata": {},
   "outputs": [],
   "source": [
    "NewNumList = [n*2 for n in NumList]  # for n in NumList: NewNumList[n] = NumList[n]*2\n",
    "\n",
    "NewNewNumList = [n for n in NewNumList if n%2==0]  # for n in NewNumList: if n%2==0: NewNewNumList[n] = NewNumList[n]\n",
    "\n",
    "WhatsList = ['even' if n%2==0 else 'odd' for n in NumList]  # for n in NumList: if n%2==0: WhatsList[n]='even' else: WhatsList[n]='odd'\n",
    "\n",
    "HopGame = ['hop' if n%3==0 else n for n in range(1, 21)]  # for n in range(1, 21): if n%3==0: HopGame[n]='hop' else: HopGame[n]=n"
   ]
  },
  {
   "cell_type": "markdown",
   "id": "7439413f",
   "metadata": {},
   "source": [
    "#### built-in functions :"
   ]
  },
  {
   "cell_type": "code",
   "execution_count": null,
   "id": "ba447863",
   "metadata": {},
   "outputs": [],
   "source": [
    "# changes the list\n",
    "\n",
    "ListName.append(\"anything\")  # add string|character|number|... to the end of the list\n",
    "ListName.insert(1, 'A')  # insert string|character|number|... before the index\n",
    "ListName.pop(-1)  # deletes the object at the index(-1 means last one and it's default .pop()) (it changes list) and returns the objecct that was deleted\n",
    "ListName.remove('A')  # deletes the first-one of the value you provide\n",
    "#ListName.clear()  # clear the list\n",
    "ListName.index('da?')  # returns the first index of the value(from 0)\n",
    "ListName.count(\"da?\")  # returns the number of the value\n",
    "NumList.sort()  # the list must be have one type (can use reverse=True & ...)\n",
    "sorted(NumList)  # sort the list but don't change it in general\n",
    "# .copy\n",
    "','.join(WordsList)  # adds ','(or any specified separator) between the members except for the last one"
   ]
  },
  {
   "cell_type": "markdown",
   "id": "8e37217b-5da1-47a3-aab2-12f8a43d4563",
   "metadata": {},
   "source": [
    "### tuple :"
   ]
  },
  {
   "cell_type": "code",
   "execution_count": null,
   "id": "cfff8b80-5dd9-4fdb-b233-3df7ec843c0b",
   "metadata": {},
   "outputs": [],
   "source": [
    "# it's mostly like lists but it's immutable, means it's unchangeable \n",
    "# it has better performance\n",
    "\n",
    "TupleName = (11, 3.14, 'A', \"da?\")\n",
    "\n",
    "NameAndAgeTuple = ( ('mad', 18), ('popet', 19), ('ahmagh', 14))"
   ]
  },
  {
   "cell_type": "markdown",
   "id": "20747a44-feab-4926-904f-2543de455821",
   "metadata": {},
   "source": [
    "### dictionary :"
   ]
  },
  {
   "cell_type": "code",
   "execution_count": null,
   "id": "bd4a5b62-40b1-44da-86b7-a50d2b9ea522",
   "metadata": {},
   "outputs": [],
   "source": [
    "# it isn't ordered like lists and tuples\n",
    "# it has no index, if you call a key it returns the value\n",
    "\n",
    "#            key    value    key     value   key       value   key value           key    value\n",
    "DictName = {'name':'trae' , 'number':11,    'number2':'11',    11:'NumberOfTrae', 'AList':[1,2.0,'hop']}\n",
    "DictName['name']  # returns 'trae'\n",
    "DictName[11]  # returns 'NumberOfTrae' (if it's unavailable returns an error)\n",
    "DictName.get('name')  # returns 'trae' (if it's unavailable doesn't return an error)\n",
    "DictName.get('family name', 'not have')  # returns 'not have' because 'family name' isn't in DictName"
   ]
  },
  {
   "cell_type": "code",
   "execution_count": null,
   "id": "8a78b5a0-82c0-4f53-a17c-f1c471c12d99",
   "metadata": {},
   "outputs": [],
   "source": [
    "users = {'mad':'active', 'ahmagh':'inactive', 'popet':'active'}"
   ]
  },
  {
   "cell_type": "code",
   "execution_count": null,
   "id": "74ae2105-31d3-4a9a-b89d-c3a0cf1e9fb7",
   "metadata": {},
   "outputs": [],
   "source": [
    "scores = { \n",
    "        'mad': {\n",
    "            'math':13,\n",
    "            'prog':19\n",
    "        },\n",
    "        'popet': {\n",
    "            'math':16, \n",
    "            'prog':13\n",
    "        }\n",
    "}\n",
    "\n",
    "scores['mad']['math']"
   ]
  },
  {
   "cell_type": "code",
   "execution_count": null,
   "id": "1474b71e-496c-4875-9087-508a2221c333",
   "metadata": {},
   "outputs": [],
   "source": [
    "classes = {\n",
    "    1:['madi', 'popet'],\n",
    "    2:['ahmagh', 'reza']\n",
    "}\n",
    "\n",
    "classes[2]\n",
    "#      key\n",
    "classes[1] [1].upper()[2]\n",
    "#      key index      index"
   ]
  },
  {
   "cell_type": "code",
   "execution_count": null,
   "id": "9b42af8c-f3df-46e6-91c1-2aadc4d0c418",
   "metadata": {},
   "outputs": [],
   "source": [
    "peoples = {\n",
    "    'madi':(18, 173),\n",
    "    'popet':(19, 80)\n",
    "}\n",
    "\n",
    "peoples['madi']\n",
    "peoples['popet'][1]"
   ]
  },
  {
   "cell_type": "markdown",
   "id": "52878446",
   "metadata": {},
   "source": [
    "#### dictionary comprehension :"
   ]
  },
  {
   "cell_type": "code",
   "execution_count": null,
   "id": "ab046a09",
   "metadata": {},
   "outputs": [],
   "source": [
    "{n: n*2 for n in [1, 2, 3, 4]}  # for n in NumList: NewNumList[n] = NumList[n]*2\n",
    "# n connected to n*2\n",
    "\n",
    "{f\"n{n}\": n*2 for n in [1, 2, 3, 4]}\n",
    "\n",
    "{k: v for k, v in zip(['key1', 'key2'], ['value1', 'value2'])}\n",
    "# k connected to v"
   ]
  },
  {
   "cell_type": "markdown",
   "id": "b0227d53",
   "metadata": {},
   "source": [
    "#### built-in functions :"
   ]
  },
  {
   "cell_type": "code",
   "execution_count": null,
   "id": "3892f1ac",
   "metadata": {},
   "outputs": [],
   "source": [
    "DictName.values()  # returns an iterable of values\n",
    "keys = DictName.keys()  # returns an iterable of keys\n",
    "DictName.items()  # returns an iterable of keys,values\n",
    "# .get('key', AnotherValue)  # if it doesn't have 'key' it returns AnotherValue"
   ]
  },
  {
   "cell_type": "markdown",
   "id": "d9df2908-7ce9-4023-a351-3abf33b792d5",
   "metadata": {},
   "source": [
    "### set :"
   ]
  },
  {
   "cell_type": "code",
   "execution_count": null,
   "id": "eb783161-304f-4511-841b-126c98de288d",
   "metadata": {},
   "outputs": [],
   "source": [
    "# it isn't ordered like lists and tuples\n",
    "# it's mostly like lists but it has no repetitive members\n",
    "\n",
    "SetName = set()\n",
    "SetName.add(3.14)\n",
    "SetName.add(\"popet\")\n",
    "\n",
    "SetName2 = set([\"popet\", 11])\n",
    "\n",
    "SetName3 = {'ahmagh', 9.8}\n",
    "\n",
    "SetName = SetName2  # if setname1 has changed setname2 changes too\n",
    "SetName = SetName2.copy()  # if setname1 has changed setname2 remains the same as before"
   ]
  },
  {
   "cell_type": "markdown",
   "id": "7ca9cd87",
   "metadata": {},
   "source": [
    "#### built-in functions :"
   ]
  },
  {
   "cell_type": "code",
   "execution_count": null,
   "id": "dd4c1fca",
   "metadata": {},
   "outputs": [],
   "source": [
    "SetName.union(SetName2)\n",
    "SetName.update(SetName2)  # setname = setname+setname2\n",
    "SetName.intersection(SetName2)\n",
    "SetName.difference(SetName2)  # returns setname - setname2\n",
    "SetName2.difference_update(SetName)  # setname2 = setname2 - setname (make changes to setname2)\n",
    "SetName.intersection(SetName2)  # .intersection_update() is change the setname\n",
    "SetName.isdisjoint(SetName2)  # returns true or false\n",
    "SetName.issubset(SetName2)\n",
    "SetName.issuperset(SetName2)  # opposite of above\n",
    "\n",
    "SetName3.remove('ahmagh')  # if 'ahmagh' exist remove it, else returns error\n",
    "SetName3.discard(10)  # if 10 exist remove it, else discard it..\n",
    "SetName3.clear()  # clear it!"
   ]
  },
  {
   "cell_type": "markdown",
   "id": "0d9ba672-da7d-4d12-bf53-400d997e13c9",
   "metadata": {},
   "source": [
    "## file i/o :"
   ]
  },
  {
   "cell_type": "code",
   "execution_count": null,
   "id": "590d0e63-da3a-4a4a-b779-e6fc35f837c9",
   "metadata": {},
   "outputs": [],
   "source": [
    "AFile = open(\"PATH\", 'r')  # path of a txt file\n",
    "AFile.read()  # read and gets to end\n",
    "AFile.read()  # it returns nothing because the pointer is at the end of the file\n",
    "AFile.seek(0)  # it moves the pointer back to the start of the file\n",
    "AFile.read()  # now we can read it again\n",
    "AFile.readlines()  # returns a list with each line as a different string\n",
    "AFile.close()  # the file must be closed after working on it\n",
    "### OR\n",
    "with open(\"files\\ForHandOut.txt\", 'r') as AF:  # 'a', 'w'\n",
    "    print(AF.readlines()[-1])  # returns the last line\n",
    "    AF.close()"
   ]
  },
  {
   "cell_type": "markdown",
   "id": "77044b03",
   "metadata": {},
   "source": [
    "search --> 'python file open mods' for more things (rewrite and append and ...)"
   ]
  },
  {
   "cell_type": "markdown",
   "id": "183845d0-c4db-4be4-8609-b813d82bb5f6",
   "metadata": {},
   "source": [
    "# outputs :"
   ]
  },
  {
   "cell_type": "code",
   "execution_count": null,
   "id": "dc664fb9-b00e-428b-b345-c32e72cc96c8",
   "metadata": {},
   "outputs": [],
   "source": [
    "print(\"hello world!\\n\",2+3,\"\\t\")   # type 1\n",
    "\n",
    "print(\"\"\"this is a type of printing\n",
    " it's completely free\n",
    "to use \\' or \\\" even \\\\\"\"\")           # type 2\n",
    "\n",
    "print(\"hello %s, your age is %i! right?\" %(name, age))  # type 3\n",
    "\n",
    "print(\"hello {}, your age is {}! right?\".format(name, age))  # type 4\n",
    "print(\"hello {1}, your age is {0}! right?\".format(age, name))  # it can {0} and {0}  or  other ways\n",
    "#                                         index :  0    1\n",
    "print(\"hello {TheName}, your age is {TheAge}! right?\".format(TheAge=age, TheName=name))\n",
    "\n",
    "print(f\"hello {name}, {age} is you age?\")  # type 5\n",
    "print(f\"hello {\"mr \"+name}\")\n",
    "print(f\"pi number is near the {p_num:1.1f}\")\n",
    "\n",
    "# f_string and string.format() can do same works \n",
    "\n",
    "print('mad' in name)\n",
    "print((name+' ')*4)"
   ]
  },
  {
   "cell_type": "markdown",
   "id": "3c90b0e2-12e9-4c62-9fb5-2adc4a0e66ca",
   "metadata": {},
   "source": [
    "# inputs :"
   ]
  },
  {
   "cell_type": "code",
   "execution_count": null,
   "id": "d6ebc15e-b4b0-47b1-a85c-ac80097d5ed1",
   "metadata": {},
   "outputs": [],
   "source": [
    "str_input = input(\"any string can be here\")  # default gets as a string\n",
    "int_input = int(input(\"any string can be here\"))"
   ]
  },
  {
   "cell_type": "markdown",
   "id": "dafe253f-26cb-4010-8fc4-22525b6e27cc",
   "metadata": {},
   "source": [
    "# operators :"
   ]
  },
  {
   "cell_type": "code",
   "execution_count": null,
   "id": "38624197-6a1e-43f7-98a7-8ba400eb857c",
   "metadata": {},
   "outputs": [],
   "source": [
    "5+4\n",
    "5-4\n",
    "5*4\n",
    "5/4   # returns the result as a float number\n",
    "## 'ANumber/0' returns error\n",
    "5//4  # returns the result without decimals\n",
    "4**3  # --> 4 to the power of 3(exponent)\n",
    "5%4  # return modula\n",
    "\n",
    "# ()  ->  **  ->  * / // %  ->  + -\n",
    "# 1000000 == 1_000_000"
   ]
  },
  {
   "cell_type": "markdown",
   "id": "4b4a264c-b788-400a-964e-e152b5bb47cc",
   "metadata": {},
   "source": [
    "# conditions :"
   ]
  },
  {
   "cell_type": "code",
   "execution_count": null,
   "id": "7244da4e-111c-4faf-b7ae-99ef982de1eb",
   "metadata": {},
   "outputs": [],
   "source": [
    "if((\"dam\" not in name) and (flag)):  # \"not in\" returns True or False\n",
    "    print(\"it is.\\n\")  # \"in\" returns True or False\n",
    "elif((\"mad\" in name) or (not flag)):  # (else: if(condition):)  ==  (elif:)\n",
    "    print(\"it is?\\n\")\n",
    "elif((4>p_num>3) and p_num!=0):  # (p_num<4 and p_num>3)\n",
    "    pass\n",
    "else:\n",
    "    print(\"anything\\n\")"
   ]
  },
  {
   "cell_type": "code",
   "execution_count": null,
   "id": "dce12595-9fc4-4f88-901c-92fe9e4683c5",
   "metadata": {},
   "outputs": [],
   "source": [
    "res = 'odd' if age%2!=0 else 'even'"
   ]
  },
  {
   "cell_type": "code",
   "execution_count": null,
   "id": "d2adcfda-52d7-4e8a-bb41-97a64b361fa8",
   "metadata": {},
   "outputs": [],
   "source": [
    "match(name):  # automatically breaks if a condition becomes true\n",
    "    case \"madmad\":  # if\n",
    "        print(\"name is madmad.\\n\")\n",
    "    case \"popet\":  # elif\n",
    "        print(\"name is popet.\\n\")\n",
    "    # +infinite cases (elifs)\n",
    "    case 1:\n",
    "        print(\"is your name a fucking number?\\n\")\n",
    "    case _:  # else\n",
    "        print(\"idk, what's your name?\\n\")"
   ]
  },
  {
   "cell_type": "markdown",
   "id": "43f52601-625c-4496-8133-fddee8e3fb8e",
   "metadata": {},
   "source": [
    "# loops :"
   ]
  },
  {
   "cell_type": "code",
   "execution_count": null,
   "id": "3eb09fb4-7255-4f15-bf4e-c78672ac606f",
   "metadata": {},
   "outputs": [],
   "source": [
    "# it works on iterable things (strings, lists, dictionaries, tuples, sets , ...)\n",
    "# for : for when we know exactly how many times the loop should iterate or when it needs to repeat over a specific item\n",
    "# while : for when we don't know exactly how many times the loop should iterate and we want it to continue until a condition is true\n",
    "\n",
    "# while (condition):\n",
    "#    pass  # it's do nothing\n",
    "# else\n",
    "#    if while condition become false it runs\n",
    "\n",
    "# also we have 'break' and 'continue'"
   ]
  },
  {
   "cell_type": "code",
   "execution_count": null,
   "id": "8ef05b52-c03e-4bd8-a2a2-0e7ddbb6f6e2",
   "metadata": {},
   "outputs": [],
   "source": [
    "         # range(8) -> from 0 to 7 by 1\n",
    "for num in range(0,8,2):  # from 0 to 7 by 2\n",
    "    print(num, end=\" \")  # end becomes \" \" instead of '\\n'\n",
    "else:\n",
    "    print('end of number list\\n')\n",
    "\n",
    "## range(10, 1, -2)"
   ]
  },
  {
   "cell_type": "code",
   "execution_count": null,
   "id": "f266f942-3c78-4ba8-9b7e-9b1a0c02686c",
   "metadata": {},
   "outputs": [],
   "source": [
    "for i in range(len(ListName)):\n",
    "    print(i, ListName[i])\n",
    "else:\n",
    "    print('end of anything list\\n')\n",
    "# same as :\n",
    "for i, weak_dict in enumerate(ListName):\n",
    "    print(i, weak_dict)"
   ]
  },
  {
   "cell_type": "code",
   "execution_count": null,
   "id": "491538ee-ab42-4f3c-8a79-caa6461a5512",
   "metadata": {},
   "outputs": [],
   "source": [
    "for z in zip(NumList, ListName):  # can sum NameList and LNameList and AgeList and ... together using zip\n",
    "    print(z)"
   ]
  },
  {
   "cell_type": "code",
   "execution_count": null,
   "id": "01bf793b-12a7-48ed-92d6-8b54ca26a373",
   "metadata": {},
   "outputs": [],
   "source": [
    "for w in WordsList:  # or NumList\n",
    "    print(w, len(w))\n",
    "else:\n",
    "    print('end of word list\\n')"
   ]
  },
  {
   "cell_type": "code",
   "execution_count": null,
   "id": "f4061508-d6a4-42bb-9b7f-b35cee097219",
   "metadata": {},
   "outputs": [],
   "source": [
    "for _ in name:  # a culture used when we don't work with a variable ( _ )\n",
    "    print(\"another character\")"
   ]
  },
  {
   "cell_type": "markdown",
   "id": "e23a3712-1dc6-49c4-af01-553d26bfc7ed",
   "metadata": {},
   "source": [
    "## unpacking :"
   ]
  },
  {
   "cell_type": "code",
   "execution_count": null,
   "id": "4d13e2d2-0990-4f6a-94fd-8a4493a086df",
   "metadata": {},
   "outputs": [],
   "source": [
    "for user,status in users.items():  # .keys or .values\n",
    "    print(f'{user} is {status}.')\n",
    "\n",
    "for people in peoples:\n",
    "    print(f\"{people} is {peoples[people][0]}\")  # or just {peoples[people]}\n",
    "    print(f\"{people} is {peoples[people][1]}\")\n",
    "\n",
    "for person in NameAndAgeTuple:\n",
    "    NameInTuple, AgeInTuple = person\n",
    "    print(f\"name is {NameInTuple} and it's {AgeInTuple}\")"
   ]
  },
  {
   "cell_type": "markdown",
   "id": "3fa79399-bef5-41b8-a857-753686d5768c",
   "metadata": {},
   "source": [
    "# functions(methods in OOP) :"
   ]
  },
  {
   "cell_type": "code",
   "execution_count": null,
   "id": "7ccf1e79-0c11-444e-af18-826e24b82aff",
   "metadata": {},
   "outputs": [],
   "source": [
    "# def function_name(arguments=default_value, OR=default_value, parameters=default_value):  # snake_case\n",
    "'''\n",
    "    DOCUMENT STRING\n",
    "    a summery about function\n",
    "    this is the help of the function(when you hover your mouse over the function name)\n",
    "\n",
    "    OR \n",
    "\n",
    "    Parameters\n",
    "    ----------\n",
    "    argument1 : TYPE\n",
    "        DESCRIPTION\n",
    "    argument2 : TYPE\n",
    "        DESCRIPTION\n",
    "\n",
    "    Returns\n",
    "    -------\n",
    "    None.\n",
    "    '''\n",
    "\n",
    "    # describes what the function does"
   ]
  },
  {
   "cell_type": "code",
   "execution_count": null,
   "id": "d64550e6-f9bd-4191-bfd8-173d9e9a4b2d",
   "metadata": {},
   "outputs": [],
   "source": [
    "def say_hi_n_times(name, n=1):\n",
    "    '''\n",
    "    says hello to the name, n times\n",
    "    '''\n",
    "    for i in range(n):\n",
    "        print(f\"hi {name}\")"
   ]
  },
  {
   "cell_type": "code",
   "execution_count": null,
   "id": "ed678c73-d8d7-4c52-ba34-516fe45aa194",
   "metadata": {},
   "outputs": [],
   "source": [
    "def sum_of_two_nums(num1=0, num2=0):\n",
    "    '''\n",
    "    returns sum of two numbers\n",
    "    '''\n",
    "    # res = num1 + num2\n",
    "    return num1+num2  # res"
   ]
  },
  {
   "cell_type": "code",
   "execution_count": null,
   "id": "51922a44-60c1-44d9-abe1-0692dc1a0fda",
   "metadata": {},
   "outputs": [],
   "source": [
    "def point_location(point):\n",
    "    '''\n",
    "    gives you the location of your point (the point must be a tuple?)\n",
    "    '''\n",
    "    if(type(point) == tuple):\n",
    "        match point:\n",
    "            case (0, 0):\n",
    "                print(\"Origin\")\n",
    "            case (0, y):\n",
    "                print(f\"Y={y}\")\n",
    "            case (x, 0):\n",
    "                print(f\"X={x}\")\n",
    "            case (x, y):\n",
    "                print(f\"X={x}, Y={y}\")\n",
    "            case _:\n",
    "                print(\"Not a point\")\n",
    "    else:\n",
    "        print(\"give a tuple have two members to function\")"
   ]
  },
  {
   "cell_type": "code",
   "execution_count": null,
   "id": "63afbd83-b12a-47f5-b83d-ccc733f20a71",
   "metadata": {},
   "outputs": [],
   "source": [
    "def WhatsTheError(error):\n",
    "    '''\n",
    "    returns errors as a string\n",
    "    '''\n",
    "    match error:\n",
    "        case 400:\n",
    "            return \"bad request\"\n",
    "        case 401 | 403:\n",
    "            return \"not allowed\"\n",
    "        case 404:\n",
    "            return \"not found\"\n",
    "        case 418:\n",
    "            return \"i'm a teapot\"\n",
    "        case _:\n",
    "            return \"something's wrong with the internet\"    "
   ]
  },
  {
   "cell_type": "code",
   "execution_count": null,
   "id": "08860b57-fba3-4895-89da-b8384fb9725a",
   "metadata": {},
   "outputs": [],
   "source": [
    "def number_of_evens(nums):\n",
    "    '''\n",
    "    give it a list and it returns the number of even numbers in the list\n",
    "\n",
    "    Parameters\n",
    "    ----------\n",
    "    nums : list\n",
    "        a list of numbers\n",
    "\n",
    "    Returns\n",
    "    -------\n",
    "    number of the even-numbers in the list : int\n",
    "    '''\n",
    "    def is_even(num):  # just in function\n",
    "        return num%2==0\n",
    "    count=0\n",
    "    for num in nums:\n",
    "        if(is_even(num)):\n",
    "           count+=1\n",
    "    return count"
   ]
  },
  {
   "cell_type": "code",
   "execution_count": null,
   "id": "24c7261e-6a51-4761-81ff-a2682b60c93e",
   "metadata": {},
   "outputs": [],
   "source": [
    "def any_odd(nums):\n",
    "    for num in nums:\n",
    "        if(num%2!=0):\n",
    "            return True  # returns true and break the function\n",
    "    return False"
   ]
  },
  {
   "cell_type": "code",
   "execution_count": null,
   "id": "ac28ad45-3e8b-43c6-97ae-ad07888d7fea",
   "metadata": {},
   "outputs": [],
   "source": [
    "def largest(nums):\n",
    "    largest_num == nums[0]  # place holder\n",
    "    for num in nums:\n",
    "        if(num>largest_num):\n",
    "            largest_num = num\n",
    "    return largest_num"
   ]
  },
  {
   "cell_type": "code",
   "execution_count": null,
   "id": "5050a04f-29d4-4786-878b-04e19315d3b2",
   "metadata": {},
   "outputs": [],
   "source": [
    "def get_odds(nums):\n",
    "    odds = []  # place holder\n",
    "    for num in nums:\n",
    "        if not(num%2==0):  # OR  if (not num%2==0):  OR  if not num%2==0:  \n",
    "            odds.append(num)\n",
    "    return odds\n",
    "print(f\"{len(get_odds([1,2,3,4]))} odds, they're {get_odds([1,2,3,4])}\")\n",
    "# ------------------OR------------------\n",
    "def get_odds2(nums):\n",
    "    odds = []  # place holder\n",
    "    counter = 0\n",
    "    for num in nums:\n",
    "        if not(num%2==0):\n",
    "            odds.append(num)\n",
    "            counter+=1  # at last : counter = len(odds)\n",
    "    return odds, counter  # return's a tuple\n",
    "\n",
    "list_of_odds, num_of_odds = get_odds2([1,2,3,4])\n",
    "print(f\"{num_of_odds} odds, they're {list_of_odds}\")"
   ]
  },
  {
   "cell_type": "code",
   "execution_count": null,
   "id": "7c5d80c0-8058-4b31-8406-fee1a2709afd",
   "metadata": {},
   "outputs": [],
   "source": [
    "'''\n",
    "    if condition==result:\n",
    "        return True\n",
    "    else:\n",
    "        return False\n",
    "'''\n",
    "# same as :\n",
    "''' \n",
    "    return condition==result\n",
    "'''"
   ]
  },
  {
   "cell_type": "markdown",
   "id": "840c422d",
   "metadata": {},
   "source": [
    "## functions are objects too :"
   ]
  },
  {
   "cell_type": "markdown",
   "id": "e5b9e6c3",
   "metadata": {},
   "source": [
    "### functions are first class citizens :"
   ]
  },
  {
   "cell_type": "code",
   "execution_count": null,
   "id": "61ae9ee5",
   "metadata": {},
   "outputs": [],
   "source": [
    "def say_hi():\n",
    "    print(\"hi\")\n",
    "\n",
    "hi_function = say_hi  # hi_function is completely same as say_hi\n",
    "say_hi  # it's an object\n",
    "hi_function  # it's an object too same as say_hi\n",
    "hi_function is say_hi  # return's true\n",
    "# even if say_hi was deleted hi_function is work"
   ]
  },
  {
   "cell_type": "code",
   "execution_count": null,
   "id": "b9fdd45f",
   "metadata": {},
   "outputs": [],
   "source": [
    "def do_twice(a_function):\n",
    "    a_function()\n",
    "    a_function()\n",
    "\n",
    "do_twice(say_hi)"
   ]
  },
  {
   "cell_type": "code",
   "execution_count": null,
   "id": "b77c3635",
   "metadata": {},
   "outputs": [],
   "source": [
    "def add(num1, num2):\n",
    "    return num1+num2\n",
    "def calculate(num1, num2, a_func):\n",
    "    return a_func(num1, num2)\n",
    "\n",
    "calculate(1, 3, add)"
   ]
  },
  {
   "cell_type": "markdown",
   "id": "ca618fca",
   "metadata": {},
   "source": [
    "### functions can be nested :"
   ]
  },
  {
   "cell_type": "code",
   "execution_count": null,
   "id": "19c0d3a1",
   "metadata": {},
   "outputs": [],
   "source": [
    "def calculation(num1, num2, what_to_do):\n",
    "    def sum(num1, num2):\n",
    "        return num1+num2\n",
    "    def minus(num1, num2):\n",
    "        return num1-num2\n",
    "    \n",
    "    if(what_to_do == \"sum\"):\n",
    "        return sum(num1, num2)\n",
    "    elif(what_to_do == \"minus\"):\n",
    "        return minus(num1, num2)\n",
    "    return f\"i can't do {what_to_do}\"\n",
    "\n",
    "# can't use sum() or minus() in here or anywhere"
   ]
  },
  {
   "cell_type": "markdown",
   "id": "e4fcc7e5",
   "metadata": {},
   "source": [
    "# decorators :"
   ]
  },
  {
   "cell_type": "markdown",
   "id": "e40ea33c",
   "metadata": {},
   "source": [
    "runs a function on another functions to change they're behavior"
   ]
  },
  {
   "cell_type": "code",
   "execution_count": null,
   "id": "ecaf144f",
   "metadata": {},
   "outputs": [],
   "source": [
    "# amateur way :\n",
    "def run_on_even_minute_amateur():\n",
    "    import datetime\n",
    "    minute = datetime.datetime.now().minute\n",
    "    return minute%2==0\n",
    "\n",
    "def say_hi():\n",
    "    if(run_on_even_minute_amateur):\n",
    "        print(\"hi\")\n",
    "    else:\n",
    "        print(\"hisssss\")\n",
    "\n",
    "#------------------------------------------------\n",
    "# without decorator\n",
    "def run_on_even_minute(a_function):\n",
    "    import datetime\n",
    "    minute = datetime.datetime.now().minute\n",
    "    if(minute%2==0):\n",
    "        a_function()\n",
    "    else:\n",
    "        print(\"hisssss\")\n",
    "\n",
    "def say_hi():\n",
    "    print(\"hi\")\n",
    "\n",
    "run_on_even_minute(say_hi)\n",
    "\n",
    "#------------------------------------------------\n",
    "# with decorator \n",
    "def run_on_even_minute_decorator(a_function):\n",
    "    def run_or_not():  # wrapper():\n",
    "        import datetime\n",
    "        minute = datetime.datetime.now().minute\n",
    "        if(minute%2==0):\n",
    "            a_function()\n",
    "        else:\n",
    "            print(\"hisssss\")\n",
    "    return run_or_not  # return wrapper\n",
    "\n",
    "@run_on_even_minute_decorator\n",
    "def say_hi():\n",
    "    print(\"hi\")\n",
    "\n",
    "say_hi()"
   ]
  },
  {
   "cell_type": "code",
   "execution_count": null,
   "id": "99a73c68",
   "metadata": {},
   "outputs": [],
   "source": [
    "def run_time(a_func):\n",
    "    def wrapper(n):\n",
    "        import datetime\n",
    "        time_before_run = datetime.datetime.now()\n",
    "        a_func(n)\n",
    "        time_after_run = datetime.datetime.now()\n",
    "        elapsed_time = time_after_run-time_before_run\n",
    "        print(f\"time taken for counting from 0 to {n} : {elapsed_time}\")\n",
    "    return wrapper\n",
    "\n",
    "@run_time\n",
    "def zero_to_n(n):\n",
    "    for i in range(n):\n",
    "        print(i)\n",
    "\n",
    "zero_to_n(100_000)"
   ]
  },
  {
   "cell_type": "markdown",
   "id": "139a79e0",
   "metadata": {},
   "source": [
    "For example, can write a decorator that takes a function, \n",
    "prints its input values, sleeps for a specified time, \n",
    "then runs the function and prints its output. \n",
    "This makes it easier to debug."
   ]
  },
  {
   "cell_type": "markdown",
   "id": "381a6a45",
   "metadata": {},
   "source": [
    "can use decorators are already available by search --> python decorator time or debug"
   ]
  },
  {
   "cell_type": "markdown",
   "id": "fe76e5af",
   "metadata": {},
   "source": [
    "## generators :"
   ]
  },
  {
   "cell_type": "code",
   "execution_count": null,
   "id": "6e853d2c",
   "metadata": {},
   "outputs": [],
   "source": [
    "# like range function\n",
    "print(range(10))\n",
    "print(type(range(10)))"
   ]
  },
  {
   "cell_type": "code",
   "execution_count": null,
   "id": "81e4f0c0",
   "metadata": {},
   "outputs": [],
   "source": [
    "#??????????????????????????????????????????????????\n",
    "#  yield"
   ]
  },
  {
   "cell_type": "markdown",
   "id": "37ac36f1-9456-4ce4-bcd9-6d265f07d9b8",
   "metadata": {},
   "source": [
    "## *args :"
   ]
  },
  {
   "cell_type": "code",
   "execution_count": null,
   "id": "0b801ed0-615a-4cfd-bbce-034ae9877e37",
   "metadata": {},
   "outputs": [],
   "source": [
    "'''\n",
    "def mult(a, b, c=1):\n",
    "    return a*b*c\n",
    "'''\n",
    "\n",
    "def mult(*args):  # args(arguments) or any name\n",
    "    # it can be some variables \n",
    "    # the function reads those as a tuple\n",
    "    result = 1\n",
    "    for a in args:\n",
    "        result*=a\n",
    "    return result\n",
    "\n",
    "\n",
    "#    a,b,c\n",
    "mult(2,5,8)  # positional calling"
   ]
  },
  {
   "cell_type": "markdown",
   "id": "995f550f-28d9-4c84-843d-90eb3ad99cc7",
   "metadata": {},
   "source": [
    "## **kwargs :"
   ]
  },
  {
   "cell_type": "code",
   "execution_count": null,
   "id": "8e8c1676-f54d-4d49-8c20-c4fbb9430de8",
   "metadata": {},
   "outputs": [],
   "source": [
    "'''\n",
    "def triangle_area(length, width):\n",
    "    return length*width\n",
    "    \n",
    "def circle_area():\n",
    "    return\n",
    "'''\n",
    "\n",
    "def area(**kwargs):  # kwargs(key-word arguments) or any name\n",
    "    # it can be some labeled variables\n",
    "    # the function reads those as a dictionary\n",
    "    if('length' and 'width') in kwargs:  # calculation priority is determined by the triangle\n",
    "        # if give it 'length', 'width' and 'radius' it calculates triangle area\n",
    "        return kwargs['length']*kwargs['width']  # break the function\n",
    "    if 'radius' in kwargs:  # the next calculation priority is determined by the circle\n",
    "        return 3.14 * (kwargs['radius']**2)  # break the function\n",
    "    return 'your data are wrong'\n",
    "\n",
    "area(length=4, width=5) \n",
    "area(radius=6)"
   ]
  },
  {
   "cell_type": "markdown",
   "id": "9403b2e1-e7ee-4a70-8875-630a29945f1d",
   "metadata": {},
   "source": [
    "## map :"
   ]
  },
  {
   "cell_type": "code",
   "execution_count": null,
   "id": "7daee67f-e757-4061-a57c-7e021c68d684",
   "metadata": {},
   "outputs": [],
   "source": [
    "# call a function on a variable\n",
    "\n",
    "def square_of(num):\n",
    "    return num**2\n",
    "nums = [1,2,3]\n",
    "\n",
    "\n",
    "''' the amateur way for mapping :\n",
    "for num in range(len(nums)):\n",
    "    nums[num] = square_of(nums[num])\n",
    "print(nums) '''\n",
    "\n",
    "mapped_nums = map(square_of, nums)  # it do than when we need it in program\n",
    "\n",
    "\n",
    "''' the amateur way for showing :\n",
    "for mn in mapped_nums:\n",
    "    print(mn) '''\n",
    "# OR\n",
    "print(list(mapped_nums))"
   ]
  },
  {
   "cell_type": "markdown",
   "id": "10fc3523-b3d6-4170-9d25-cf883ad0d30c",
   "metadata": {},
   "source": [
    "## filter :"
   ]
  },
  {
   "cell_type": "code",
   "execution_count": null,
   "id": "e447f70f-b227-4e1b-b501-d1ce3928d586",
   "metadata": {},
   "outputs": [],
   "source": [
    "# call a function on a list, when the function returns true -> keep the value, else -> delete the value\n",
    "def is_even(num):\n",
    "    return num%2==0\n",
    "nums = [1,2,3,4]\n",
    "\n",
    "\n",
    "''' the amateur way for filtering :\n",
    "for num in nums:\n",
    "    if not is_even(num):\n",
    "        nums.remove(num) '''\n",
    "\n",
    "even_nums = filter(is_even, nums)\n",
    "\n",
    "\n",
    "''' thr amathor way for showing :\n",
    "for mn in even_nums:\n",
    "    print(mn) '''\n",
    "# OR\n",
    "print(list(even_nums))"
   ]
  },
  {
   "cell_type": "markdown",
   "id": "af868051-cc53-4dd1-a2f9-4df132136905",
   "metadata": {},
   "source": [
    "## lambda :"
   ]
  },
  {
   "cell_type": "code",
   "execution_count": null,
   "id": "4c260786-6238-43c7-9acf-9af278795713",
   "metadata": {},
   "outputs": [],
   "source": [
    "# lambda is an anonymous function it doesn't have a name\n",
    "# lambda AVariableName: ToDo  -> it receives a variable and returns true or false\n",
    "\n",
    "''' the amateur way for a little function :\n",
    "def is_decimal(num):\n",
    "    return num != int(num)\n",
    "list(filter(is_decimal, nums)) '''\n",
    "\n",
    "# it could be something like this in short : \n",
    "lambda num: num!=int(num) \n",
    "\n",
    "list(filter(lambda num: num!=int(num), nums))"
   ]
  },
  {
   "cell_type": "markdown",
   "id": "1c3336be-ef47-4ba2-9f0d-1de3435e1137",
   "metadata": {},
   "source": [
    "## scope :"
   ]
  },
  {
   "cell_type": "code",
   "execution_count": null,
   "id": "862bdcd4-9c7c-416b-b05f-ee29a222c75c",
   "metadata": {},
   "outputs": [],
   "source": [
    "''' order of using variable in Python :\n",
    "legb :  local -> enclosing function -> global -> build-in '''\n",
    "\n",
    "def in_func():\n",
    "    name = 'popet'\n",
    "    print(f\"in function is {name}\")\n",
    "name = 'mad'\n",
    "print(f\"first is {name}\")\n",
    "in_func()\n",
    "print(f\"second is {name}\")"
   ]
  },
  {
   "cell_type": "code",
   "execution_count": null,
   "id": "0657d307-e967-41c4-b79a-87dee6457e7b",
   "metadata": {},
   "outputs": [],
   "source": [
    "def in_func():\n",
    "    print(f\"in function is {name}\")\n",
    "    # there is no name in the local and there is no enclosing function so it searches in the global environment\n",
    "name = 'mad'\n",
    "print(f\"first is {name}\")\n",
    "in_func()\n",
    "print(f\"second is {name}\")"
   ]
  },
  {
   "cell_type": "code",
   "execution_count": null,
   "id": "2206aebd-028d-46fd-889a-9035ad71edc3",
   "metadata": {},
   "outputs": [],
   "source": [
    "def in_func():\n",
    "    global name  # it's very dangerous and not good thing\n",
    "    name = 'popet'\n",
    "    print(f\"in function is {name}\")\n",
    "    \n",
    "name = 'mad'\n",
    "print(f\"first is {name}\")\n",
    "in_func()\n",
    "print(f\"second is {name}\")"
   ]
  },
  {
   "cell_type": "markdown",
   "id": "81f0f408-742d-481b-a6be-9785dce4557e",
   "metadata": {},
   "source": [
    "# OOP(object oriented programming) :"
   ]
  },
  {
   "cell_type": "code",
   "execution_count": null,
   "id": "945b0091-e6a1-4ba5-b325-714907bc14c5",
   "metadata": {},
   "outputs": [],
   "source": [
    "class ParentClass1Name():\n",
    "    def __init__(self, parameter1):\n",
    "        self.attribute1 = parameter1\n",
    "    def say_hello_from_p1(self):\n",
    "        print(\"hello from parent class 1\")\n",
    "    def from_where(self):\n",
    "        print(f\"this is from ParentClass1Name\")"
   ]
  },
  {
   "cell_type": "code",
   "execution_count": null,
   "id": "f74177c7-53fd-4276-bdc7-8f377b9b96e3",
   "metadata": {},
   "outputs": [],
   "source": [
    "class ParentClass2Name():  # if this inheritance from ParentClass1Name, ClassName can't Inherit from ParentClass2Name\n",
    "    def say_hello_from_p2(self):\n",
    "        print(\"hello from parent class 2\")"
   ]
  },
  {
   "cell_type": "code",
   "execution_count": null,
   "id": "6e54c9c7-9d58-4e80-a9e9-f3913afeb364",
   "metadata": {},
   "outputs": [],
   "source": [
    "class ClassName(ParentClass1Name, ParentClass2Name):\n",
    "    class_attribute = 'anything'  # to use : ClassName.class_attribute\n",
    "    def __init__(self, parameter1, parameter2, parameter3):  # constructor method\n",
    "        ParentClass1Name.__init__(self, parameter3)\n",
    "        self.attribute1 = parameter1\n",
    "        self.ThisNameUsedInAndOutOfClass = parameter2\n",
    "        print(f\"object created with {parameter1} and {parameter2}\")\n",
    "    def change_attribute1(self, new_attribute):  # setter method for attribute1\n",
    "        self.attribute1 = new_attribute\n",
    "    def from_where(self):\n",
    "        print(f\"this is from ClassName\")\n",
    "    def __del__(self):  # destructor\n",
    "        print(\"deleted was successfully!\")"
   ]
  },
  {
   "cell_type": "code",
   "execution_count": null,
   "id": "059c0fef-7e5c-4827-8d33-4d8f698cc9b7",
   "metadata": {},
   "outputs": [],
   "source": [
    "instance = ClassName(1, 3, 5)\n",
    "\n",
    "# call methods with  .method_name(parameters)\n",
    "# call attribute with  .attribute_name\n",
    "\n",
    "print(f\"attribute1 in the first is : {instance.attribute1}\")\n",
    "instance.change_attribute1(5)\n",
    "print(f\"attribute1 changes with 'setter' to : {instance.attribute1}\")\n",
    "instance.attribute1 = 'anything'\n",
    "print(f\"attribute1 changes with '=' to : {instance.attribute1}\")\n",
    "\n",
    "ClassName.class_attribute = 'AAnything'  # it changes a attribute for all instances(it's not good at all)\n",
    "\n",
    "instance.say_hello_from_p1()\n",
    "\n",
    "instance.from_where()\n",
    "ins = ParentClass1Name(4)\n",
    "ins.from_where()"
   ]
  },
  {
   "cell_type": "markdown",
   "id": "61c53b71-a216-4c08-9ce4-fb38ae5701a8",
   "metadata": {},
   "source": [
    "self : If the Human class has a method called 'satiate', calling it means that the specific instance ('someone') is satiated, not that the Human itself is satiated. In fact, 'self' refers to that specific instance and can have any name other than 'self'"
   ]
  },
  {
   "cell_type": "markdown",
   "id": "1077544f-e819-498b-99ac-6ce5a5787e14",
   "metadata": {},
   "source": [
    "## sport example :"
   ]
  },
  {
   "cell_type": "code",
   "execution_count": null,
   "id": "0e0997a4-4d87-4daf-b9db-59cc51351820",
   "metadata": {},
   "outputs": [],
   "source": [
    "class sportsman():\n",
    "    ha=1\n",
    "    def __init__(self, name='unknown', age=-1):\n",
    "        self.name = name\n",
    "        self.age = age\n",
    "\n",
    "    def show(self):\n",
    "        print(f\"{self.name} is {self.age} and is exercising\")\n",
    "        # if WRITE 'name' instead of 'self.name' it follows 'legb' rule\n",
    "\n",
    "    def abstract_method(self):  # it self doesn't do anything but inherited classes must define it to use it\n",
    "        raise NotImplementedError(\"implement this method in new class\")\n",
    "\n",
    "    # dunder(double underscore) methods (magic methods) :\n",
    "    def __str__(self):  # can print the object or get it's information as a string\n",
    "        return f\"{self.name} is {self.age}\"\n",
    "\n",
    "    def __len__(self):  # it's just callable on the 'sportsman' class\n",
    "        return self.age\n",
    "\n",
    "    def __del__(self):  # destructor\n",
    "        print(f\"{self.name} is gone..\")\n",
    "        \n",
    "\n",
    "class runner(sportsman):\n",
    "    def __init__(self, age=-1, name='unknown', shoe='unknown'):\n",
    "        sportsman.__init__(self, name, age)\n",
    "        self.shoe = shoe\n",
    "        \n",
    "    def show(self):\n",
    "        print(f\"{self.name} is {self.age} and {self.name} is running with {self.shoe} shoe\")\n",
    "\n",
    "    def __str__(self):\n",
    "        return f\"{self.name} is {self.age} with {self.shoe}\"\n",
    "\n",
    "    def __del__(self):\n",
    "        print(f\"{self.name} is gone..\")\n",
    "\n",
    "        \n",
    "class cyclist(sportsman):\n",
    "    def __init__(self, name='unknown', age=-1, bike='unknown'):\n",
    "        sportsman.__init__(self, name, age)\n",
    "        self.bike = bike\n",
    "        \n",
    "    def show(self):\n",
    "        print(f\"{self.name} is {self.age} and {self.name} is biking with {self.bike} bike\")\n",
    "\n",
    "    def __str__(self):\n",
    "        return f\"{self.name} is {self.age} with {self.bike}\"\n",
    "\n",
    "    def __del__(self):\n",
    "        print(f\"{self.name} is gone..\")\n",
    "    \n",
    "\n",
    "ahmagh = sportsman('ahmagh', 18)\n",
    "ahmagh.age = 19\n",
    "print(ahmagh)\n",
    "str(ahmagh)\n",
    "len(ahmagh)"
   ]
  },
  {
   "cell_type": "markdown",
   "id": "6e0f1d69-0298-47ca-af5b-590b23c5b633",
   "metadata": {},
   "source": [
    "## polymorphism :"
   ]
  },
  {
   "cell_type": "code",
   "execution_count": null,
   "id": "13b98052-d641-44b9-8d92-da95a22b7e90",
   "metadata": {},
   "outputs": [],
   "source": [
    "goli = cyclist('goli', 43, 'intenze')\n",
    "popet = runner(14, 'popet', 'Air11')\n",
    "\n",
    "for spm in [ahmagh, goli, popet]:\n",
    "    spm.show()\n",
    "\n",
    "del ahmagh"
   ]
  },
  {
   "cell_type": "code",
   "execution_count": null,
   "id": "e5d961b8-c7b0-4a46-b839-3a71e4e452e4",
   "metadata": {},
   "outputs": [],
   "source": [
    "def whats_doing(name):\n",
    "    return name.show()\n",
    "\n",
    "whats_doing(popet)"
   ]
  },
  {
   "cell_type": "markdown",
   "id": "e7a2cf78",
   "metadata": {},
   "source": [
    "# error handling :"
   ]
  },
  {
   "cell_type": "code",
   "execution_count": null,
   "id": "8e7f98f8",
   "metadata": {},
   "outputs": [],
   "source": [
    "def division(a,b):\n",
    "    try:\n",
    "        r = a/b\n",
    "    except ZeroDivisionError:\n",
    "        print(\"b cannot be zero\")\n",
    "        r = None\n",
    "    except Exception as e:\n",
    "        print(f\"have {e} problem\")\n",
    "        r = None\n",
    "    else :\n",
    "        # will run if no exception happens\n",
    "        print(f\"your division is ready sir : {r}\")\n",
    "    finally : \n",
    "        # will be run in any case\n",
    "        return r\n",
    "\n",
    "    # try and else runs together\n",
    "    # finally runs anyway\n",
    "    # it's better to try's be short\n",
    "    # it's better to have exact exception\n",
    "\n",
    "print(division(4,5))\n",
    "print(division(3,0))\n",
    "print(division('3',False))"
   ]
  },
  {
   "cell_type": "markdown",
   "id": "21796dc9",
   "metadata": {},
   "source": [
    "search : python build-in exceptions"
   ]
  },
  {
   "cell_type": "markdown",
   "id": "1b682357",
   "metadata": {},
   "source": [
    "# lint (Programming handwrite) :"
   ]
  },
  {
   "cell_type": "markdown",
   "id": "75caed91",
   "metadata": {},
   "source": [
    "formatter : for example change 'a=  5' to 'a = 5' (use PEP(python improvement proposal))<br>\n",
    "to use :"
   ]
  },
  {
   "cell_type": "code",
   "execution_count": null,
   "id": "62392df5",
   "metadata": {},
   "outputs": [],
   "source": [
    "# pip install black (it's a good formatter)\n",
    "\n",
    "# black  path\\code_name.py\n",
    "# OR\n",
    "# black code_name.py"
   ]
  },
  {
   "cell_type": "markdown",
   "id": "24fe19d3",
   "metadata": {},
   "source": [
    "linter : do formatter's work + correct's your code syntax and logic<br>\n",
    "to use :"
   ]
  },
  {
   "cell_type": "code",
   "execution_count": null,
   "id": "0eec0e97",
   "metadata": {},
   "outputs": [],
   "source": [
    "# pip install pylint\n",
    "\n",
    "# pylint path\\code_name.py\n",
    "# OR\n",
    "# pylint code_name.py\n",
    "\n",
    "# pylint --report y path\\code_name.py\n",
    "# OR\n",
    "# pylint --report y code_name.py"
   ]
  },
  {
   "cell_type": "markdown",
   "id": "a17da980",
   "metadata": {},
   "source": [
    "# testing :"
   ]
  },
  {
   "cell_type": "markdown",
   "id": "53354e57",
   "metadata": {},
   "source": [
    "each feature should have a test for maintenance and future optimizations<br>\n",
    "TDD(Test-Driven Development) : is a programming way it's started with writing tests and next of that writing program which pass tests<br>\n",
    "to use :"
   ]
  },
  {
   "cell_type": "code",
   "execution_count": null,
   "id": "e6b2f3bb",
   "metadata": {},
   "outputs": [],
   "source": [
    "# pip install unittest  (python standard library)"
   ]
  },
  {
   "cell_type": "markdown",
   "id": "35fe4d8c",
   "metadata": {},
   "source": [
    "unit test is a framework and must be work with it culture  "
   ]
  },
  {
   "cell_type": "code",
   "execution_count": null,
   "id": "58603194",
   "metadata": {},
   "outputs": [],
   "source": [
    "import unittest\n",
    "from modules.for_handout_module import count_char\n",
    "\n",
    "class AnyName(unittest.TestCase):\n",
    "    # the names of the functions must start with 'test_'\n",
    "    def test_simple(self):\n",
    "        s = \"anything\"\n",
    "        c = 'n'\n",
    "        self.assertEqual(count_char(s, c), 2)\n",
    "\n",
    "    def test_nothing(self):\n",
    "        s = \"\"\n",
    "        c = 'x'\n",
    "        self.assertEqual(count_char(s, c), 0)\n",
    "    \n",
    "    def test_longer(self):\n",
    "        s = \"any any any any even anything\"\n",
    "        c = 'n'\n",
    "        self.assertEqual(count_char(s, c), 7)\n",
    "\n",
    "    def test_not_exist(self):\n",
    "        s = \"anything\"\n",
    "        c = 'm'\n",
    "        self.assertEqual(count_char(s, c), 0)\n",
    "\n",
    "    def test_all(self):\n",
    "        s = \"nnnnnnnnnnnn\"\n",
    "        c = 'n'\n",
    "        self.assertEqual(count_char(s, c), 12)\n",
    "\n",
    "if __name__ == \"__main__\":\n",
    "    unittest.main()"
   ]
  },
  {
   "cell_type": "code",
   "execution_count": null,
   "id": "df83b61a",
   "metadata": {},
   "outputs": [],
   "source": [
    "def divide(a, b):\n",
    "    try:\n",
    "        return a / b\n",
    "    except ZeroDivisionError:\n",
    "        print(\"second number can not be 0, enter numbers again.\")\n",
    "        return None\n",
    "    except ValueError:\n",
    "        print(\"you must enter numbers, enter again.\")\n",
    "    except TypeError:\n",
    "        print(\"you must enter numbers, enter again.\")\n",
    "        return None\n",
    "    except Exception as e:\n",
    "        print(e)\n",
    "        return e\n",
    "\n",
    "while True:\n",
    "    try:\n",
    "        num1 = int(input(\"Enter first number: \"))\n",
    "        num2 = int(input(\"Enter second number: \"))\n",
    "        if(divide(num1, num2) is not None):\n",
    "            print(\"Result:\", divide(num1, num2))\n",
    "            break\n",
    "    except Exception as e:\n",
    "        print(f\"the error was {e}, enter one another..\")\n",
    "    finally:\n",
    "        print(\"run successfully?\\n\\n\\n\")\n",
    "        \n",
    "\n",
    "# tests are : \n",
    "'''\n",
    "if num == 0 --> ZeroDivisionError\n",
    "if num!=digit --> ValueError \n",
    "after running show a message even it has a problem\n",
    "program couldn't be crashed '''\n",
    "\n",
    "# this part must be in the another file\n",
    "import unittest\n",
    "class DivideTest(unittest.TestCase):\n",
    "    def test_zero(self):\n",
    "        num1 = 2  # or any number except 0\n",
    "        num2 = 0\n",
    "        self.assertIsNone(divide(num1, num2))\n",
    "\n",
    "    def test_num1_invalid(self):\n",
    "        num1 = '1'\n",
    "        num2 = 1  # or any number\n",
    "        self.assertIsNone(divide(num1, num2))\n",
    "\n",
    "    def test_num2_invalid(self):\n",
    "        num1 = 2\n",
    "        num2 = '2'  # or any number\n",
    "        self.assertIsNone(divide(num1, num2))\n",
    "        \n",
    "unittest.main()"
   ]
  },
  {
   "cell_type": "markdown",
   "id": "35e936d4",
   "metadata": {},
   "source": [
    "# web scraping :"
   ]
  },
  {
   "cell_type": "markdown",
   "id": "b13887ca",
   "metadata": {},
   "source": [
    "to know responses search : http response cat"
   ]
  },
  {
   "cell_type": "code",
   "execution_count": null,
   "id": "c501cf0f",
   "metadata": {},
   "outputs": [],
   "source": [
    "import requests\n",
    "\n",
    "r = requests.get(\"https://torob.com/browse/97/%D9%87%D8%AF%D9%81%D9%88%D9%86-%D9%87%D8%AF%D8%B3%D8%AA-%D9%88-%D9%87%D9%86%D8%AF%D8%B2%D9%81%D8%B1%DB%8C-headphone-and-headset/\")  #  , auth=('user', 'pass')\n",
    "r.status_code  # returns response\n",
    "r.url  # returns url you requests for\n",
    "r.text  # returns the full HTML"
   ]
  },
  {
   "cell_type": "code",
   "execution_count": null,
   "id": "97f29478",
   "metadata": {},
   "outputs": [],
   "source": [
    "import lxml\n",
    "import bs4  # beautiful soup 4\n",
    "from IPython.display import Image, display\n",
    "\n",
    "html_data = r.text\n",
    "souped_data = bs4.BeautifulSoup(html_data)  # cooking like html page in web\n",
    "title = souped_data.select('title')  # text on tabbar  # returns as beautiful soup list\n",
    "title[0].text  # returns title as string  (.getText())\n",
    "\n",
    "souped_data.find_all('p')  # find all <p>s and returns as a list\n",
    "# can be :\n",
    "#           p  |  div  | ..\n",
    "#           #id\n",
    "#           .class\n",
    "#           div>span -> span witch directly under the div\n",
    "\n",
    "names = souped_data.select('.ProductCard_desktop_product-name__JwqeK')\n",
    "prices = souped_data.select('.ProductCard_desktop_product-price-text__y20OV')  # find all objects from 'any' class\n",
    "photos = souped_data.select('.ProductImageSlider_slide__kN_Ed')\n",
    "# or can select target in the 'inspect' and copy the 'CSS selector'. this is the directly path to the target object\n",
    "photos\n",
    "\n",
    "for num in range(len(names)):\n",
    "    img_tag = photos[num].select_one('img')\n",
    "    img_url = img_tag.get('src') or img_tag.get('data-src') if img_tag else None\n",
    "\n",
    "    display(Image(img_url))\n",
    "    print(f\"\\n{names[num].getText()}\\n{prices[num].getText()}\\n\\n\\n\")"
   ]
  },
  {
   "cell_type": "markdown",
   "id": "1dc84ec5",
   "metadata": {},
   "source": [
    "tools : 'selector gadget',  'css selector plugin'"
   ]
  },
  {
   "cell_type": "markdown",
   "id": "07615a94",
   "metadata": {},
   "source": [
    "selenium is library professionaler than the requests, it directly open the browser and do things for times the website closed requests permission"
   ]
  },
  {
   "cell_type": "markdown",
   "id": "7c06f61a",
   "metadata": {},
   "source": [
    "# images :"
   ]
  },
  {
   "cell_type": "markdown",
   "id": "4c989dab",
   "metadata": {},
   "source": [
    "PIL(python image library) --> somebody's fork it to pillow"
   ]
  },
  {
   "cell_type": "code",
   "execution_count": null,
   "id": "a6b102a6",
   "metadata": {},
   "outputs": [],
   "source": [
    "from PIL import Image\n",
    "\n",
    "img = Image.open(\"files\\image_for_handout.jpg\")\n",
    "#img.show()\n",
    "img.format\n",
    "img.mode  # RGB means : Red(0-255) Green(\") Blue(\") Alpha(\")\n",
    "img.rotate(180)\n",
    "img.size\n",
    "\n",
    "img.show()"
   ]
  },
  {
   "cell_type": "code",
   "execution_count": null,
   "id": "baf11b44",
   "metadata": {},
   "outputs": [],
   "source": [
    "a_little_of = img.crop((0, 10, 700, 600))\n",
    "img.paste(a_little_of, (0,400))\n",
    "img.show()\n",
    "img.save(\"files\\wtf_img.png\")"
   ]
  },
  {
   "cell_type": "code",
   "execution_count": null,
   "id": "af7d5503",
   "metadata": {},
   "outputs": [],
   "source": [
    "img.getpixel((100,100))  # returns a tuple has pixel numbers\n",
    "img.putpixel((50,100), (255,255,255))  # white color in (50,100)\n",
    "img.show()"
   ]
  },
  {
   "cell_type": "code",
   "execution_count": null,
   "id": "c52744fc",
   "metadata": {},
   "outputs": [],
   "source": [
    "for i in range(50):\n",
    "    for j in range(50):\n",
    "        img.putpixel((50+i,50+j), (i*15,i*j*15,j*15))\n",
    "\n",
    "img.show()"
   ]
  },
  {
   "cell_type": "markdown",
   "id": "f786dd8e",
   "metadata": {},
   "source": [
    "# CSV :"
   ]
  },
  {
   "cell_type": "code",
   "execution_count": null,
   "id": "ea07c329",
   "metadata": {},
   "outputs": [],
   "source": [
    "import csv  # or 'pandas' is more complete\n",
    "\n",
    "csv_file = open(\"PATH\", encoding='utf-8')\n",
    "csv_data_list = csv.reader(csv_file)  # read as list\n",
    "csv_data_dict = csv.DictReader(csv_file)  # read as dictionary\n",
    "#for data in csv_data:\n",
    "#    print(data)\n",
    "csv_lines = list(csv_data_dict)"
   ]
  },
  {
   "cell_type": "markdown",
   "id": "9317cd37",
   "metadata": {},
   "source": [
    "# PDF :"
   ]
  },
  {
   "cell_type": "code",
   "execution_count": null,
   "id": "2c443c2e",
   "metadata": {},
   "outputs": [],
   "source": [
    "import PyPDF2\n",
    "\n",
    "pdf_file = PyPDF2.PdfReader(\"PATH\")\n",
    "\n",
    "len(pdf_file.pages)\n",
    "\n",
    "first_page = pdf_file.pages[0]\n",
    "first_page.extract_text()"
   ]
  },
  {
   "cell_type": "markdown",
   "id": "b08f60e8",
   "metadata": {},
   "source": [
    "# Excel :"
   ]
  },
  {
   "cell_type": "code",
   "execution_count": null,
   "id": "a48592f8",
   "metadata": {},
   "outputs": [],
   "source": [
    "import openpyxl\n",
    "\n",
    "excel_file = openpyxl.load_workbook(\"PATH\")\n",
    "work_sheet = excel_file.active"
   ]
  },
  {
   "cell_type": "code",
   "execution_count": null,
   "id": "71749928",
   "metadata": {},
   "outputs": [],
   "source": [
    "first_unit_value = work_sheet[\"f12\"]\n",
    "\n",
    "# from F12 to F18 are unit values \n",
    "first_unit_value.value\n",
    "\n",
    "total_of_units = 0\n",
    "for i in range(12, 19):\n",
    "    this_cell = f\"F{i}\"\n",
    "    total_of_units += work_sheet[this_cell].value\n",
    "total_of_units"
   ]
  },
  {
   "cell_type": "code",
   "execution_count": null,
   "id": "619133a0",
   "metadata": {},
   "outputs": [],
   "source": [
    "new_excel = openpyxl.Workbook()\n",
    "new_work_sheet = new_excel.active\n",
    "\n",
    "new_work_sheet[\"a1\"] = \"ha???\"\n",
    "new_work_sheet[\"b1\"] = \"ahaa\"\n",
    "new_work_sheet.append([1,2,3,4])\n",
    "\n",
    "new_excel.save(\"files\\excel_for_handout.xlsx\")"
   ]
  },
  {
   "cell_type": "markdown",
   "id": "ef8dd488",
   "metadata": {},
   "source": [
    "# API :"
   ]
  },
  {
   "cell_type": "markdown",
   "id": "a5193cdb",
   "metadata": {},
   "source": [
    "## read from API (with rest API) :"
   ]
  },
  {
   "cell_type": "markdown",
   "id": "6486eb78",
   "metadata": {},
   "source": [
    "https://realpython.com/api-integration-in-python/"
   ]
  },
  {
   "cell_type": "markdown",
   "id": "5192e160",
   "metadata": {},
   "source": [
    "in any programming language you can convert datas to json"
   ]
  },
  {
   "cell_type": "code",
   "execution_count": null,
   "id": "4372feb0",
   "metadata": {},
   "outputs": [],
   "source": [
    "import json\n",
    "\n",
    "json_string_data = json.dumps(DictName)  # returns \"DictName\" as a string with json format\n",
    "returns_to_python = json.loads(json_string_data)\n",
    "returns_to_python[\"name\"]"
   ]
  },
  {
   "cell_type": "markdown",
   "id": "0ca6a5b4",
   "metadata": {},
   "source": [
    "a cool API : open-notify.org"
   ]
  },
  {
   "cell_type": "code",
   "execution_count": null,
   "id": "1e4799ac",
   "metadata": {},
   "outputs": [],
   "source": [
    "import requests\n",
    "import json\n",
    "\n",
    "api_address = \"http://api.open-notify.org/astros.json\"\n",
    "\n",
    "# GET != POST\n",
    "# .get(url)\n",
    "# .post(url, json=data)\n",
    "\n",
    "response = requests.get(api_address)\n",
    "\n",
    "response.status_code  # OR response OR response.json  returns code received\n",
    "json_received_data = response.json()  # returns data received\n",
    "\n",
    "for this_person in json_received_data[\"people\"]:\n",
    "    print(f\"{this_person['name']} is in {this_person['craft']}\")"
   ]
  },
  {
   "cell_type": "markdown",
   "id": "734def88",
   "metadata": {},
   "source": [
    "## build an API (flask) :"
   ]
  },
  {
   "cell_type": "markdown",
   "id": "a11bfad4",
   "metadata": {},
   "source": [
    "server side (like jango)"
   ]
  },
  {
   "cell_type": "code",
   "execution_count": null,
   "id": "6a698b51",
   "metadata": {},
   "outputs": [],
   "source": [
    "from flask import Flask\n",
    "\n",
    "app = Flask(__name__)\n",
    "\n",
    "@app.route('/')  # if anyone comes to /address (/ means root (real home))  (http://127.0.0.1:5000/)\n",
    "def say_hello_from_home():\n",
    "    return \"hello world (from home)\"  # so do this\n",
    "\n",
    "@app.route('/about')  # if anyone comes to /address/about  (http://127.0.0.1:5000/about)\n",
    "def about_page():\n",
    "    return \"this is the about page\"  # so do this\n",
    "\n",
    "if(__name__) == \"__main__\":\n",
    "    app.run()"
   ]
  }
 ],
 "metadata": {
  "kernelspec": {
   "display_name": "base",
   "language": "python",
   "name": "python3"
  },
  "language_info": {
   "codemirror_mode": {
    "name": "ipython",
    "version": 3
   },
   "file_extension": ".py",
   "mimetype": "text/x-python",
   "name": "python",
   "nbconvert_exporter": "python",
   "pygments_lexer": "ipython3",
   "version": "3.13.5"
  }
 },
 "nbformat": 4,
 "nbformat_minor": 5
}
